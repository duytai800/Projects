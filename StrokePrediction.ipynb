{
  "nbformat": 4,
  "nbformat_minor": 0,
  "metadata": {
    "colab": {
      "name": "StrokePrediction",
      "provenance": [],
      "include_colab_link": true
    },
    "kernelspec": {
      "display_name": "Python 3",
      "name": "python3"
    },
    "language_info": {
      "name": "python"
    }
  },
  "cells": [
    {
      "cell_type": "markdown",
      "metadata": {
        "id": "view-in-github",
        "colab_type": "text"
      },
      "source": [
        "<a href=\"https://colab.research.google.com/github/duytai800/Projects/blob/main/StrokePrediction.ipynb\" target=\"_parent\"><img src=\"https://colab.research.google.com/assets/colab-badge.svg\" alt=\"Open In Colab\"/></a>"
      ]
    },
    {
      "cell_type": "code",
      "metadata": {
        "colab": {
          "base_uri": "https://localhost:8080/"
        },
        "id": "QEtjTE2Sj_TU",
        "outputId": "9df15bfd-0766-4f06-a157-2ecb92a1f231"
      },
      "source": [
        "import matplotlib as plt\n",
        "import pandas as pd\n",
        "import numpy as np\n",
        "from xgboost import XGBClassifier\n",
        "from google.colab import drive\n",
        "drive.mount('/content/drive')\n"
      ],
      "execution_count": null,
      "outputs": [
        {
          "output_type": "stream",
          "text": [
            "Mounted at /content/drive\n"
          ],
          "name": "stdout"
        }
      ]
    },
    {
      "cell_type": "markdown",
      "metadata": {
        "id": "1Msbr6ZtzSZT"
      },
      "source": [
        "**Load dữ liệu vào, dataset là tập train , test là tập test**"
      ]
    },
    {
      "cell_type": "code",
      "metadata": {
        "colab": {
          "base_uri": "https://localhost:8080/"
        },
        "id": "hSZPYngfkS_C",
        "outputId": "61a22776-e55c-4e34-f513-7b09b608e950"
      },
      "source": [
        "dataset = pd.read_csv('/content/drive/MyDrive/tempoluxury/train.csv')\n",
        "print(dataset)"
      ],
      "execution_count": null,
      "outputs": [
        {
          "output_type": "stream",
          "text": [
            "         id  gender   age  hypertension  ...   smoking_status blood height stroke\n",
            "0        77  Female   NaN           0.0  ...          Unknown     O    NaN      0\n",
            "1        84    Male  55.0           0.0  ...     never smoked     B   1.59      0\n",
            "2        91  Female  42.0           0.0  ...     never smoked     B    NaN      0\n",
            "3        99  Female  31.0           0.0  ...          Unknown     O   1.24      0\n",
            "4       121  Female  38.0           0.0  ...          Unknown     O    NaN      0\n",
            "...     ...     ...   ...           ...  ...              ...   ...    ...    ...\n",
            "3995  72867    Male  16.0           0.0  ...          Unknown     B    NaN      0\n",
            "3996  72882    Male  47.0           0.0  ...  formerly smoked     B   1.79      0\n",
            "3997  72911   Other  57.0           1.0  ...           smokes    AB   1.15      0\n",
            "3998  72915  Female  45.0           0.0  ...  formerly smoked     O   1.33      0\n",
            "3999  72918  Female  53.0           1.0  ...          Unknown     O   1.62      1\n",
            "\n",
            "[4000 rows x 14 columns]\n"
          ],
          "name": "stdout"
        }
      ]
    },
    {
      "cell_type": "code",
      "metadata": {
        "colab": {
          "base_uri": "https://localhost:8080/"
        },
        "id": "JcN0kbnmkh1i",
        "outputId": "de885be7-33be-4f23-a76a-a0fe2600a5c4"
      },
      "source": [
        "test = pd.read_csv('/content/drive/MyDrive/tempoluxury/public_test.csv')\n",
        "print(test)"
      ],
      "execution_count": null,
      "outputs": [
        {
          "output_type": "stream",
          "text": [
            "        id  gender   age  hypertension  ...   bmi   smoking_status blood height\n",
            "0       67  Female  17.0           0.0  ...   NaN  formerly smoked    AB    NaN\n",
            "1      210    Male  81.0           0.0  ...  31.4     never smoked     A   1.60\n",
            "2      242    Male   4.0           NaN  ...  17.5          Unknown     O    NaN\n",
            "3      711    Male  81.0           0.0  ...  22.2     never smoked    AB    NaN\n",
            "4      724    Male  17.0           0.0  ...  44.7     never smoked     O   1.34\n",
            "..     ...     ...   ...           ...  ...   ...              ...   ...    ...\n",
            "495  72393  Female  23.0           0.0  ...  24.2     never smoked     A   1.82\n",
            "496  72491    Male  53.0           0.0  ...  29.2           smokes     O   1.66\n",
            "497  72562  Female  57.0           0.0  ...  32.8     never smoked    AB   1.56\n",
            "498  72792  Female  53.0           NaN  ...   NaN     never smoked    AB   1.56\n",
            "499  72940  Female   2.0           0.0  ...  17.6          Unknown    AB    NaN\n",
            "\n",
            "[500 rows x 13 columns]\n"
          ],
          "name": "stdout"
        }
      ]
    },
    {
      "cell_type": "code",
      "metadata": {
        "colab": {
          "base_uri": "https://localhost:8080/"
        },
        "id": "qZL5yaotk0-x",
        "outputId": "7ea47e54-d813-4dd5-b9a3-89f7b39f570c"
      },
      "source": [
        "dataset.info()"
      ],
      "execution_count": null,
      "outputs": [
        {
          "output_type": "stream",
          "text": [
            "<class 'pandas.core.frame.DataFrame'>\n",
            "RangeIndex: 4000 entries, 0 to 3999\n",
            "Data columns (total 14 columns):\n",
            " #   Column             Non-Null Count  Dtype  \n",
            "---  ------             --------------  -----  \n",
            " 0   id                 4000 non-null   int64  \n",
            " 1   gender             4000 non-null   object \n",
            " 2   age                3893 non-null   float64\n",
            " 3   hypertension       3770 non-null   float64\n",
            " 4   heart_disease      3910 non-null   float64\n",
            " 5   ever_married       4000 non-null   object \n",
            " 6   work_type          4000 non-null   object \n",
            " 7   Residence_type     4000 non-null   object \n",
            " 8   avg_glucose_level  3829 non-null   float64\n",
            " 9   bmi                2884 non-null   float64\n",
            " 10  smoking_status     4000 non-null   object \n",
            " 11  blood              3990 non-null   object \n",
            " 12  height             2928 non-null   float64\n",
            " 13  stroke             4000 non-null   int64  \n",
            "dtypes: float64(6), int64(2), object(6)\n",
            "memory usage: 437.6+ KB\n"
          ],
          "name": "stdout"
        }
      ]
    },
    {
      "cell_type": "code",
      "metadata": {
        "id": "QsgD4xw3lFih"
      },
      "source": [
        "dataset.drop(columns = \"id\", inplace = True)\n",
        "dataset.drop(dataset[dataset.age < 30].index, inplace=True) #từ dữ liệu ta thấy hầu hết những người dưới 30 tuổi đều không bị đột quỵ nên ta bỏ đi để giảm số stroke 0\n"
      ],
      "execution_count": null,
      "outputs": []
    },
    {
      "cell_type": "code",
      "metadata": {
        "colab": {
          "base_uri": "https://localhost:8080/"
        },
        "id": "DkFnlZBKrHTm",
        "outputId": "79d61072-2213-4b76-f973-41f951ca2727"
      },
      "source": [
        "dataset.info()"
      ],
      "execution_count": null,
      "outputs": [
        {
          "output_type": "stream",
          "text": [
            "<class 'pandas.core.frame.DataFrame'>\n",
            "Int64Index: 2842 entries, 0 to 3999\n",
            "Data columns (total 13 columns):\n",
            " #   Column             Non-Null Count  Dtype  \n",
            "---  ------             --------------  -----  \n",
            " 0   gender             2842 non-null   object \n",
            " 1   age                2735 non-null   float64\n",
            " 2   hypertension       2671 non-null   float64\n",
            " 3   heart_disease      2774 non-null   float64\n",
            " 4   ever_married       2842 non-null   object \n",
            " 5   work_type          2842 non-null   object \n",
            " 6   Residence_type     2842 non-null   object \n",
            " 7   avg_glucose_level  2726 non-null   float64\n",
            " 8   bmi                2042 non-null   float64\n",
            " 9   smoking_status     2842 non-null   object \n",
            " 10  blood              2835 non-null   object \n",
            " 11  height             2396 non-null   float64\n",
            " 12  stroke             2842 non-null   int64  \n",
            "dtypes: float64(6), int64(1), object(6)\n",
            "memory usage: 310.8+ KB\n"
          ],
          "name": "stdout"
        }
      ]
    },
    {
      "cell_type": "markdown",
      "metadata": {
        "id": "rEwYC9i3yyAC"
      },
      "source": [
        "**Tiến hành thêm dữ liệu khuyết thiếu bằng hàm mean**"
      ]
    },
    {
      "cell_type": "code",
      "metadata": {
        "id": "BsRNQ6JqnhcJ"
      },
      "source": [
        "dataset['age'].fillna(value=dataset['age'].mean(), inplace=True)\n",
        "dataset['hypertension'].fillna(value=dataset['hypertension'].mean(), inplace=True)\n",
        "dataset['heart_disease'].fillna(value=dataset['heart_disease'].mean(), inplace=True)\n",
        "dataset['avg_glucose_level'].fillna(value=dataset['avg_glucose_level'].mean(), inplace=True)\n",
        "dataset['bmi'].fillna(value=dataset['bmi'].mean(), inplace=True)\n",
        "dataset['height'].fillna(value=dataset['height'].mean(), inplace=True)"
      ],
      "execution_count": null,
      "outputs": []
    },
    {
      "cell_type": "code",
      "metadata": {
        "id": "NUqkeyulnzO6"
      },
      "source": [
        "test['age'].fillna(value=test['age'].mean(), inplace=True)\n",
        "test['hypertension'].fillna(value=test['hypertension'].mean(), inplace=True)\n",
        "test['heart_disease'].fillna(value=test['heart_disease'].mean(), inplace=True)\n",
        "test['avg_glucose_level'].fillna(value=test['avg_glucose_level'].mean(), inplace=True)\n",
        "test['bmi'].fillna(value=test['bmi'].mean(), inplace=True)\n",
        "test['height'].fillna(value=test['height'].mean(), inplace=True)"
      ],
      "execution_count": null,
      "outputs": []
    },
    {
      "cell_type": "markdown",
      "metadata": {
        "id": "ub_SdPTBy4qE"
      },
      "source": [
        "**encoder convert cái dữ liệu dạng chữ sang số**"
      ]
    },
    {
      "cell_type": "code",
      "metadata": {
        "id": "5ElzVurUn1lK"
      },
      "source": [
        "dataset['gender']=dataset['gender'].apply(lambda x : 1 if x=='Male' else (2 if x == \"Female\" else 0)) \n",
        "dataset['Residence_type']=dataset['Residence_type'].apply(lambda x : 1 if x=='Rural' else (2 if x == \"Urban\" else 0)) \n",
        "dataset['ever_married']=dataset['ever_married'].apply(lambda x : 1 if x=='Yes' else 0 )\n",
        "dataset['work_type']=dataset['work_type'].apply(lambda x : 1 if x=='Private' else (0 if x == 'Self-employed' else (2 if x == 'Govt_job' else 3)))\n",
        "dataset['smoking_status']=dataset['smoking_status'].apply(lambda x : 1 if x=='never smoked' else (2 if x == 'formerly smoked' else (3 if x == 'smokes' else 0)))\n",
        "dataset['blood']=dataset['blood'].apply(lambda x : 0 if x =='O' else (3 if x == 'AB' else (1 if x == 'A' else 2)))"
      ],
      "execution_count": null,
      "outputs": []
    },
    {
      "cell_type": "code",
      "metadata": {
        "id": "NQLS0m8klqgR",
        "colab": {
          "base_uri": "https://localhost:8080/"
        },
        "outputId": "625576ec-89de-4c80-cc54-0d7bfdf21f3c"
      },
      "source": [
        "print(dataset)"
      ],
      "execution_count": null,
      "outputs": [
        {
          "output_type": "stream",
          "text": [
            "         id  gender   age  hypertension  ...  smoking_status  blood  height  stroke\n",
            "0        77       0   NaN           0.0  ...               0      2     NaN       0\n",
            "1        84       0  55.0           0.0  ...               0      2    1.59       0\n",
            "2        91       0  42.0           0.0  ...               0      2     NaN       0\n",
            "3        99       0  31.0           0.0  ...               0      2    1.24       0\n",
            "4       121       0  38.0           0.0  ...               0      2     NaN       0\n",
            "...     ...     ...   ...           ...  ...             ...    ...     ...     ...\n",
            "3995  72867       0  16.0           0.0  ...               0      2     NaN       0\n",
            "3996  72882       0  47.0           0.0  ...               0      2    1.79       0\n",
            "3997  72911       0  57.0           1.0  ...               0      2    1.15       0\n",
            "3998  72915       0  45.0           0.0  ...               0      2    1.33       0\n",
            "3999  72918       0  53.0           1.0  ...               0      2    1.62       1\n",
            "\n",
            "[4000 rows x 14 columns]\n"
          ],
          "name": "stdout"
        }
      ]
    },
    {
      "cell_type": "code",
      "metadata": {
        "id": "rT3WHN0on5py",
        "colab": {
          "base_uri": "https://localhost:8080/",
          "height": 229
        },
        "outputId": "6f837536-0287-4e91-e70d-897feeb22efd"
      },
      "source": [
        "test['gender']=test['gender'].apply(lambda x : 1 if x=='Male' else (2 if x == \"Female\" else 0)) \n",
        "test['Residence_type']=test['Residence_type'].apply(lambda x : 1 if x=='Rural' else (2 if x == \"Urban\" else 0)) \n",
        "test['ever_married']=test['ever_married'].apply(lambda x : 1 if x=='Yes' else 0 )\n",
        "test['work_type']=test['work_type'].apply(lambda x : 1 if x=='Private' else (0 if x == 'Self-employed' else (2 if x == 'Govt_job' else 3)))\n",
        "test['smoking_status']=test['smoking_status'].apply(lambda x : 1 if x=='never smoked' else (2 if x == 'formerly smoked' else (3 if x == 'smokes' else 0)))\n",
        "test['blood']=test['blood'].apply(lambda x : 0 if x =='O' else (3 if x == 'AB' else (1 if x == 'A' else 2)))"
      ],
      "execution_count": null,
      "outputs": [
        {
          "output_type": "error",
          "ename": "NameError",
          "evalue": "ignored",
          "traceback": [
            "\u001b[0;31m---------------------------------------------------------------------------\u001b[0m",
            "\u001b[0;31mNameError\u001b[0m                                 Traceback (most recent call last)",
            "\u001b[0;32m<ipython-input-4-030b68282c95>\u001b[0m in \u001b[0;36m<module>\u001b[0;34m()\u001b[0m\n\u001b[0;32m----> 1\u001b[0;31m \u001b[0mtest\u001b[0m\u001b[0;34m[\u001b[0m\u001b[0;34m'gender'\u001b[0m\u001b[0;34m]\u001b[0m\u001b[0;34m=\u001b[0m\u001b[0mtest\u001b[0m\u001b[0;34m[\u001b[0m\u001b[0;34m'gender'\u001b[0m\u001b[0;34m]\u001b[0m\u001b[0;34m.\u001b[0m\u001b[0mapply\u001b[0m\u001b[0;34m(\u001b[0m\u001b[0;32mlambda\u001b[0m \u001b[0mx\u001b[0m \u001b[0;34m:\u001b[0m \u001b[0;36m1\u001b[0m \u001b[0;32mif\u001b[0m \u001b[0mx\u001b[0m\u001b[0;34m==\u001b[0m\u001b[0;34m'Male'\u001b[0m \u001b[0;32melse\u001b[0m \u001b[0;34m(\u001b[0m\u001b[0;36m2\u001b[0m \u001b[0;32mif\u001b[0m \u001b[0mx\u001b[0m \u001b[0;34m==\u001b[0m \u001b[0;34m\"Female\"\u001b[0m \u001b[0;32melse\u001b[0m \u001b[0;36m0\u001b[0m\u001b[0;34m)\u001b[0m\u001b[0;34m)\u001b[0m\u001b[0;34m\u001b[0m\u001b[0;34m\u001b[0m\u001b[0m\n\u001b[0m\u001b[1;32m      2\u001b[0m \u001b[0mtest\u001b[0m\u001b[0;34m[\u001b[0m\u001b[0;34m'Residence_type'\u001b[0m\u001b[0;34m]\u001b[0m\u001b[0;34m=\u001b[0m\u001b[0mtest\u001b[0m\u001b[0;34m[\u001b[0m\u001b[0;34m'Residence_type'\u001b[0m\u001b[0;34m]\u001b[0m\u001b[0;34m.\u001b[0m\u001b[0mapply\u001b[0m\u001b[0;34m(\u001b[0m\u001b[0;32mlambda\u001b[0m \u001b[0mx\u001b[0m \u001b[0;34m:\u001b[0m \u001b[0;36m1\u001b[0m \u001b[0;32mif\u001b[0m \u001b[0mx\u001b[0m\u001b[0;34m==\u001b[0m\u001b[0;34m'Rural'\u001b[0m \u001b[0;32melse\u001b[0m \u001b[0;34m(\u001b[0m\u001b[0;36m2\u001b[0m \u001b[0;32mif\u001b[0m \u001b[0mx\u001b[0m \u001b[0;34m==\u001b[0m \u001b[0;34m\"Urban\"\u001b[0m \u001b[0;32melse\u001b[0m \u001b[0;36m0\u001b[0m\u001b[0;34m)\u001b[0m\u001b[0;34m)\u001b[0m\u001b[0;34m\u001b[0m\u001b[0;34m\u001b[0m\u001b[0m\n\u001b[1;32m      3\u001b[0m \u001b[0mtest\u001b[0m\u001b[0;34m[\u001b[0m\u001b[0;34m'ever_married'\u001b[0m\u001b[0;34m]\u001b[0m\u001b[0;34m=\u001b[0m\u001b[0mtest\u001b[0m\u001b[0;34m[\u001b[0m\u001b[0;34m'ever_married'\u001b[0m\u001b[0;34m]\u001b[0m\u001b[0;34m.\u001b[0m\u001b[0mapply\u001b[0m\u001b[0;34m(\u001b[0m\u001b[0;32mlambda\u001b[0m \u001b[0mx\u001b[0m \u001b[0;34m:\u001b[0m \u001b[0;36m1\u001b[0m \u001b[0;32mif\u001b[0m \u001b[0mx\u001b[0m\u001b[0;34m==\u001b[0m\u001b[0;34m'Yes'\u001b[0m \u001b[0;32melse\u001b[0m \u001b[0;36m0\u001b[0m \u001b[0;34m)\u001b[0m\u001b[0;34m\u001b[0m\u001b[0;34m\u001b[0m\u001b[0m\n\u001b[1;32m      4\u001b[0m \u001b[0mtest\u001b[0m\u001b[0;34m[\u001b[0m\u001b[0;34m'work_type'\u001b[0m\u001b[0;34m]\u001b[0m\u001b[0;34m=\u001b[0m\u001b[0mtest\u001b[0m\u001b[0;34m[\u001b[0m\u001b[0;34m'work_type'\u001b[0m\u001b[0;34m]\u001b[0m\u001b[0;34m.\u001b[0m\u001b[0mapply\u001b[0m\u001b[0;34m(\u001b[0m\u001b[0;32mlambda\u001b[0m \u001b[0mx\u001b[0m \u001b[0;34m:\u001b[0m \u001b[0;36m1\u001b[0m \u001b[0;32mif\u001b[0m \u001b[0mx\u001b[0m\u001b[0;34m==\u001b[0m\u001b[0;34m'Private'\u001b[0m \u001b[0;32melse\u001b[0m \u001b[0;34m(\u001b[0m\u001b[0;36m0\u001b[0m \u001b[0;32mif\u001b[0m \u001b[0mx\u001b[0m \u001b[0;34m==\u001b[0m \u001b[0;34m'Self-employed'\u001b[0m \u001b[0;32melse\u001b[0m \u001b[0;34m(\u001b[0m\u001b[0;36m2\u001b[0m \u001b[0;32mif\u001b[0m \u001b[0mx\u001b[0m \u001b[0;34m==\u001b[0m \u001b[0;34m'Govt_job'\u001b[0m \u001b[0;32melse\u001b[0m \u001b[0;36m3\u001b[0m\u001b[0;34m)\u001b[0m\u001b[0;34m)\u001b[0m\u001b[0;34m)\u001b[0m\u001b[0;34m\u001b[0m\u001b[0;34m\u001b[0m\u001b[0m\n\u001b[1;32m      5\u001b[0m \u001b[0mtest\u001b[0m\u001b[0;34m[\u001b[0m\u001b[0;34m'smoking_status'\u001b[0m\u001b[0;34m]\u001b[0m\u001b[0;34m=\u001b[0m\u001b[0mtest\u001b[0m\u001b[0;34m[\u001b[0m\u001b[0;34m'smoking_status'\u001b[0m\u001b[0;34m]\u001b[0m\u001b[0;34m.\u001b[0m\u001b[0mapply\u001b[0m\u001b[0;34m(\u001b[0m\u001b[0;32mlambda\u001b[0m \u001b[0mx\u001b[0m \u001b[0;34m:\u001b[0m \u001b[0;36m1\u001b[0m \u001b[0;32mif\u001b[0m \u001b[0mx\u001b[0m\u001b[0;34m==\u001b[0m\u001b[0;34m'never smoked'\u001b[0m \u001b[0;32melse\u001b[0m \u001b[0;34m(\u001b[0m\u001b[0;36m2\u001b[0m \u001b[0;32mif\u001b[0m \u001b[0mx\u001b[0m \u001b[0;34m==\u001b[0m \u001b[0;34m'formerly smoked'\u001b[0m \u001b[0;32melse\u001b[0m \u001b[0;34m(\u001b[0m\u001b[0;36m3\u001b[0m \u001b[0;32mif\u001b[0m \u001b[0mx\u001b[0m \u001b[0;34m==\u001b[0m \u001b[0;34m'smokes'\u001b[0m \u001b[0;32melse\u001b[0m \u001b[0;36m0\u001b[0m\u001b[0;34m)\u001b[0m\u001b[0;34m)\u001b[0m\u001b[0;34m)\u001b[0m\u001b[0;34m\u001b[0m\u001b[0;34m\u001b[0m\u001b[0m\n",
            "\u001b[0;31mNameError\u001b[0m: name 'test' is not defined"
          ]
        }
      ]
    },
    {
      "cell_type": "code",
      "metadata": {
        "colab": {
          "base_uri": "https://localhost:8080/"
        },
        "id": "KI8j17jbmgNU",
        "outputId": "598227b6-fbde-406b-ae57-2ff44627e32a"
      },
      "source": [
        "print(dataset)"
      ],
      "execution_count": null,
      "outputs": [
        {
          "output_type": "stream",
          "text": [
            "      gender        age  hypertension  ...  blood    height  stroke\n",
            "0          2  54.888483           0.0  ...      0  1.602538       0\n",
            "1          1  55.000000           0.0  ...      2  1.590000       0\n",
            "2          2  42.000000           0.0  ...      2  1.602538       0\n",
            "3          2  31.000000           0.0  ...      0  1.240000       0\n",
            "4          2  38.000000           0.0  ...      0  1.602538       0\n",
            "...      ...        ...           ...  ...    ...       ...     ...\n",
            "3994       2  52.000000           0.0  ...      2  1.602538       0\n",
            "3996       1  47.000000           0.0  ...      2  1.790000       0\n",
            "3997       0  57.000000           1.0  ...      3  1.150000       0\n",
            "3998       2  45.000000           0.0  ...      0  1.330000       0\n",
            "3999       2  53.000000           1.0  ...      0  1.620000       1\n",
            "\n",
            "[2842 rows x 13 columns]\n"
          ],
          "name": "stdout"
        }
      ]
    },
    {
      "cell_type": "code",
      "metadata": {
        "colab": {
          "base_uri": "https://localhost:8080/"
        },
        "id": "AHLfzKZOn82R",
        "outputId": "937a3094-9e40-4a06-c9f9-3046889cf796"
      },
      "source": [
        "dataset.info()"
      ],
      "execution_count": null,
      "outputs": [
        {
          "output_type": "stream",
          "text": [
            "<class 'pandas.core.frame.DataFrame'>\n",
            "Int64Index: 2842 entries, 0 to 3999\n",
            "Data columns (total 13 columns):\n",
            " #   Column             Non-Null Count  Dtype  \n",
            "---  ------             --------------  -----  \n",
            " 0   gender             2842 non-null   int64  \n",
            " 1   age                2842 non-null   float64\n",
            " 2   hypertension       2842 non-null   float64\n",
            " 3   heart_disease      2842 non-null   float64\n",
            " 4   ever_married       2842 non-null   int64  \n",
            " 5   work_type          2842 non-null   int64  \n",
            " 6   Residence_type     2842 non-null   int64  \n",
            " 7   avg_glucose_level  2842 non-null   float64\n",
            " 8   bmi                2842 non-null   float64\n",
            " 9   smoking_status     2842 non-null   int64  \n",
            " 10  blood              2842 non-null   int64  \n",
            " 11  height             2842 non-null   float64\n",
            " 12  stroke             2842 non-null   int64  \n",
            "dtypes: float64(6), int64(7)\n",
            "memory usage: 310.8 KB\n"
          ],
          "name": "stdout"
        }
      ]
    },
    {
      "cell_type": "code",
      "metadata": {
        "colab": {
          "base_uri": "https://localhost:8080/",
          "height": 452
        },
        "id": "ysIKUSKLt5aS",
        "outputId": "ec1a7464-ebde-4611-d484-4849f1721fb8"
      },
      "source": [
        "dataset.corr()"
      ],
      "execution_count": null,
      "outputs": [
        {
          "output_type": "execute_result",
          "data": {
            "text/html": [
              "<div>\n",
              "<style scoped>\n",
              "    .dataframe tbody tr th:only-of-type {\n",
              "        vertical-align: middle;\n",
              "    }\n",
              "\n",
              "    .dataframe tbody tr th {\n",
              "        vertical-align: top;\n",
              "    }\n",
              "\n",
              "    .dataframe thead th {\n",
              "        text-align: right;\n",
              "    }\n",
              "</style>\n",
              "<table border=\"1\" class=\"dataframe\">\n",
              "  <thead>\n",
              "    <tr style=\"text-align: right;\">\n",
              "      <th></th>\n",
              "      <th>gender</th>\n",
              "      <th>age</th>\n",
              "      <th>hypertension</th>\n",
              "      <th>heart_disease</th>\n",
              "      <th>ever_married</th>\n",
              "      <th>work_type</th>\n",
              "      <th>Residence_type</th>\n",
              "      <th>avg_glucose_level</th>\n",
              "      <th>bmi</th>\n",
              "      <th>smoking_status</th>\n",
              "      <th>blood</th>\n",
              "      <th>height</th>\n",
              "      <th>stroke</th>\n",
              "    </tr>\n",
              "  </thead>\n",
              "  <tbody>\n",
              "    <tr>\n",
              "      <th>gender</th>\n",
              "      <td>1.000000</td>\n",
              "      <td>-0.043413</td>\n",
              "      <td>-0.050026</td>\n",
              "      <td>-0.105546</td>\n",
              "      <td>-0.042193</td>\n",
              "      <td>-0.002770</td>\n",
              "      <td>-0.078008</td>\n",
              "      <td>-0.086929</td>\n",
              "      <td>-0.031532</td>\n",
              "      <td>-0.048620</td>\n",
              "      <td>-0.122948</td>\n",
              "      <td>-0.014641</td>\n",
              "      <td>-0.015984</td>\n",
              "    </tr>\n",
              "    <tr>\n",
              "      <th>age</th>\n",
              "      <td>-0.043413</td>\n",
              "      <td>1.000000</td>\n",
              "      <td>0.189179</td>\n",
              "      <td>0.268536</td>\n",
              "      <td>0.136300</td>\n",
              "      <td>-0.186960</td>\n",
              "      <td>0.038517</td>\n",
              "      <td>0.193458</td>\n",
              "      <td>-0.087980</td>\n",
              "      <td>-0.033325</td>\n",
              "      <td>0.009123</td>\n",
              "      <td>0.101932</td>\n",
              "      <td>0.181198</td>\n",
              "    </tr>\n",
              "    <tr>\n",
              "      <th>hypertension</th>\n",
              "      <td>-0.050026</td>\n",
              "      <td>0.189179</td>\n",
              "      <td>1.000000</td>\n",
              "      <td>0.069789</td>\n",
              "      <td>0.042842</td>\n",
              "      <td>-0.069622</td>\n",
              "      <td>0.010408</td>\n",
              "      <td>0.136864</td>\n",
              "      <td>0.079895</td>\n",
              "      <td>0.043895</td>\n",
              "      <td>0.005858</td>\n",
              "      <td>-0.066977</td>\n",
              "      <td>0.058874</td>\n",
              "    </tr>\n",
              "    <tr>\n",
              "      <th>heart_disease</th>\n",
              "      <td>-0.105546</td>\n",
              "      <td>0.268536</td>\n",
              "      <td>0.069789</td>\n",
              "      <td>1.000000</td>\n",
              "      <td>0.014612</td>\n",
              "      <td>-0.070113</td>\n",
              "      <td>-0.008107</td>\n",
              "      <td>0.144211</td>\n",
              "      <td>-0.026581</td>\n",
              "      <td>0.030298</td>\n",
              "      <td>0.023062</td>\n",
              "      <td>0.036388</td>\n",
              "      <td>0.091268</td>\n",
              "    </tr>\n",
              "    <tr>\n",
              "      <th>ever_married</th>\n",
              "      <td>-0.042193</td>\n",
              "      <td>0.136300</td>\n",
              "      <td>0.042842</td>\n",
              "      <td>0.014612</td>\n",
              "      <td>1.000000</td>\n",
              "      <td>-0.058555</td>\n",
              "      <td>0.023681</td>\n",
              "      <td>0.060480</td>\n",
              "      <td>0.046855</td>\n",
              "      <td>0.026452</td>\n",
              "      <td>-0.006664</td>\n",
              "      <td>-0.005795</td>\n",
              "      <td>0.006084</td>\n",
              "    </tr>\n",
              "    <tr>\n",
              "      <th>work_type</th>\n",
              "      <td>-0.002770</td>\n",
              "      <td>-0.186960</td>\n",
              "      <td>-0.069622</td>\n",
              "      <td>-0.070113</td>\n",
              "      <td>-0.058555</td>\n",
              "      <td>1.000000</td>\n",
              "      <td>-0.035085</td>\n",
              "      <td>-0.034553</td>\n",
              "      <td>-0.047091</td>\n",
              "      <td>-0.025775</td>\n",
              "      <td>-0.018800</td>\n",
              "      <td>0.004964</td>\n",
              "      <td>-0.009046</td>\n",
              "    </tr>\n",
              "    <tr>\n",
              "      <th>Residence_type</th>\n",
              "      <td>-0.078008</td>\n",
              "      <td>0.038517</td>\n",
              "      <td>0.010408</td>\n",
              "      <td>-0.008107</td>\n",
              "      <td>0.023681</td>\n",
              "      <td>-0.035085</td>\n",
              "      <td>1.000000</td>\n",
              "      <td>0.004026</td>\n",
              "      <td>0.001605</td>\n",
              "      <td>-0.009943</td>\n",
              "      <td>-0.050939</td>\n",
              "      <td>0.013235</td>\n",
              "      <td>0.190412</td>\n",
              "    </tr>\n",
              "    <tr>\n",
              "      <th>avg_glucose_level</th>\n",
              "      <td>-0.086929</td>\n",
              "      <td>0.193458</td>\n",
              "      <td>0.136864</td>\n",
              "      <td>0.144211</td>\n",
              "      <td>0.060480</td>\n",
              "      <td>-0.034553</td>\n",
              "      <td>0.004026</td>\n",
              "      <td>1.000000</td>\n",
              "      <td>0.136413</td>\n",
              "      <td>0.042456</td>\n",
              "      <td>0.016953</td>\n",
              "      <td>-0.144194</td>\n",
              "      <td>0.098175</td>\n",
              "    </tr>\n",
              "    <tr>\n",
              "      <th>bmi</th>\n",
              "      <td>-0.031532</td>\n",
              "      <td>-0.087980</td>\n",
              "      <td>0.079895</td>\n",
              "      <td>-0.026581</td>\n",
              "      <td>0.046855</td>\n",
              "      <td>-0.047091</td>\n",
              "      <td>0.001605</td>\n",
              "      <td>0.136413</td>\n",
              "      <td>1.000000</td>\n",
              "      <td>0.054071</td>\n",
              "      <td>-0.018500</td>\n",
              "      <td>-0.736718</td>\n",
              "      <td>-0.018039</td>\n",
              "    </tr>\n",
              "    <tr>\n",
              "      <th>smoking_status</th>\n",
              "      <td>-0.048620</td>\n",
              "      <td>-0.033325</td>\n",
              "      <td>0.043895</td>\n",
              "      <td>0.030298</td>\n",
              "      <td>0.026452</td>\n",
              "      <td>-0.025775</td>\n",
              "      <td>-0.009943</td>\n",
              "      <td>0.042456</td>\n",
              "      <td>0.054071</td>\n",
              "      <td>1.000000</td>\n",
              "      <td>-0.004435</td>\n",
              "      <td>-0.016252</td>\n",
              "      <td>0.001839</td>\n",
              "    </tr>\n",
              "    <tr>\n",
              "      <th>blood</th>\n",
              "      <td>-0.122948</td>\n",
              "      <td>0.009123</td>\n",
              "      <td>0.005858</td>\n",
              "      <td>0.023062</td>\n",
              "      <td>-0.006664</td>\n",
              "      <td>-0.018800</td>\n",
              "      <td>-0.050939</td>\n",
              "      <td>0.016953</td>\n",
              "      <td>-0.018500</td>\n",
              "      <td>-0.004435</td>\n",
              "      <td>1.000000</td>\n",
              "      <td>0.041967</td>\n",
              "      <td>-0.199438</td>\n",
              "    </tr>\n",
              "    <tr>\n",
              "      <th>height</th>\n",
              "      <td>-0.014641</td>\n",
              "      <td>0.101932</td>\n",
              "      <td>-0.066977</td>\n",
              "      <td>0.036388</td>\n",
              "      <td>-0.005795</td>\n",
              "      <td>0.004964</td>\n",
              "      <td>0.013235</td>\n",
              "      <td>-0.144194</td>\n",
              "      <td>-0.736718</td>\n",
              "      <td>-0.016252</td>\n",
              "      <td>0.041967</td>\n",
              "      <td>1.000000</td>\n",
              "      <td>0.040208</td>\n",
              "    </tr>\n",
              "    <tr>\n",
              "      <th>stroke</th>\n",
              "      <td>-0.015984</td>\n",
              "      <td>0.181198</td>\n",
              "      <td>0.058874</td>\n",
              "      <td>0.091268</td>\n",
              "      <td>0.006084</td>\n",
              "      <td>-0.009046</td>\n",
              "      <td>0.190412</td>\n",
              "      <td>0.098175</td>\n",
              "      <td>-0.018039</td>\n",
              "      <td>0.001839</td>\n",
              "      <td>-0.199438</td>\n",
              "      <td>0.040208</td>\n",
              "      <td>1.000000</td>\n",
              "    </tr>\n",
              "  </tbody>\n",
              "</table>\n",
              "</div>"
            ],
            "text/plain": [
              "                     gender       age  ...    height    stroke\n",
              "gender             1.000000 -0.043413  ... -0.014641 -0.015984\n",
              "age               -0.043413  1.000000  ...  0.101932  0.181198\n",
              "hypertension      -0.050026  0.189179  ... -0.066977  0.058874\n",
              "heart_disease     -0.105546  0.268536  ...  0.036388  0.091268\n",
              "ever_married      -0.042193  0.136300  ... -0.005795  0.006084\n",
              "work_type         -0.002770 -0.186960  ...  0.004964 -0.009046\n",
              "Residence_type    -0.078008  0.038517  ...  0.013235  0.190412\n",
              "avg_glucose_level -0.086929  0.193458  ... -0.144194  0.098175\n",
              "bmi               -0.031532 -0.087980  ... -0.736718 -0.018039\n",
              "smoking_status    -0.048620 -0.033325  ... -0.016252  0.001839\n",
              "blood             -0.122948  0.009123  ...  0.041967 -0.199438\n",
              "height            -0.014641  0.101932  ...  1.000000  0.040208\n",
              "stroke            -0.015984  0.181198  ...  0.040208  1.000000\n",
              "\n",
              "[13 rows x 13 columns]"
            ]
          },
          "metadata": {
            "tags": []
          },
          "execution_count": 142
        }
      ]
    },
    {
      "cell_type": "code",
      "metadata": {
        "colab": {
          "base_uri": "https://localhost:8080/"
        },
        "id": "Fxx1vrnyoAJ5",
        "outputId": "ef3aef93-463b-4d0c-f8e1-21f6445691eb"
      },
      "source": [
        "test.info()"
      ],
      "execution_count": null,
      "outputs": [
        {
          "output_type": "stream",
          "text": [
            "<class 'pandas.core.frame.DataFrame'>\n",
            "RangeIndex: 500 entries, 0 to 499\n",
            "Data columns (total 13 columns):\n",
            " #   Column             Non-Null Count  Dtype  \n",
            "---  ------             --------------  -----  \n",
            " 0   id                 500 non-null    int64  \n",
            " 1   gender             500 non-null    int64  \n",
            " 2   age                500 non-null    float64\n",
            " 3   hypertension       500 non-null    float64\n",
            " 4   heart_disease      500 non-null    float64\n",
            " 5   ever_married       500 non-null    int64  \n",
            " 6   work_type          500 non-null    int64  \n",
            " 7   Residence_type     500 non-null    int64  \n",
            " 8   avg_glucose_level  500 non-null    float64\n",
            " 9   bmi                500 non-null    float64\n",
            " 10  smoking_status     500 non-null    int64  \n",
            " 11  blood              500 non-null    int64  \n",
            " 12  height             500 non-null    float64\n",
            "dtypes: float64(6), int64(7)\n",
            "memory usage: 50.9 KB\n"
          ],
          "name": "stdout"
        }
      ]
    },
    {
      "cell_type": "code",
      "metadata": {
        "colab": {
          "base_uri": "https://localhost:8080/"
        },
        "id": "DO_bZ9eJcy-S",
        "outputId": "36cd0ea9-a964-4560-f706-31506e6960cc"
      },
      "source": [
        "print(test)"
      ],
      "execution_count": null,
      "outputs": [
        {
          "output_type": "stream",
          "text": [
            "        id  gender   age  ...  smoking_status  blood    height\n",
            "0       67       2  17.0  ...               2      3  1.620718\n",
            "1      210       1  81.0  ...               1      1  1.600000\n",
            "2      242       1   4.0  ...               0      0  1.620718\n",
            "3      711       1  81.0  ...               1      3  1.620718\n",
            "4      724       1  17.0  ...               1      0  1.340000\n",
            "..     ...     ...   ...  ...             ...    ...       ...\n",
            "495  72393       2  23.0  ...               1      1  1.820000\n",
            "496  72491       1  53.0  ...               3      0  1.660000\n",
            "497  72562       2  57.0  ...               1      3  1.560000\n",
            "498  72792       2  53.0  ...               1      3  1.560000\n",
            "499  72940       2   2.0  ...               0      3  1.620718\n",
            "\n",
            "[500 rows x 13 columns]\n"
          ],
          "name": "stdout"
        }
      ]
    },
    {
      "cell_type": "markdown",
      "metadata": {
        "id": "vIaAwfdwzEVO"
      },
      "source": [
        "**tiến hành loại bỏ 2 cột hypertension và heart_disease**"
      ]
    },
    {
      "cell_type": "code",
      "metadata": {
        "id": "H_gAxs65XGZo",
        "colab": {
          "base_uri": "https://localhost:8080/",
          "height": 320
        },
        "outputId": "f33e50ce-e7e0-46fa-da56-0ab3ab02d611"
      },
      "source": [
        "dataset.drop(columns='hypertension', inplace=True)\n",
        "dataset.drop(columns='heart_disease', inplace = True)"
      ],
      "execution_count": null,
      "outputs": [
        {
          "output_type": "error",
          "ename": "KeyError",
          "evalue": "ignored",
          "traceback": [
            "\u001b[0;31m---------------------------------------------------------------------------\u001b[0m",
            "\u001b[0;31mKeyError\u001b[0m                                  Traceback (most recent call last)",
            "\u001b[0;32m<ipython-input-157-85de89f5b1f3>\u001b[0m in \u001b[0;36m<module>\u001b[0;34m()\u001b[0m\n\u001b[0;32m----> 1\u001b[0;31m \u001b[0mdataset\u001b[0m\u001b[0;34m.\u001b[0m\u001b[0mdrop\u001b[0m\u001b[0;34m(\u001b[0m\u001b[0mcolumns\u001b[0m\u001b[0;34m=\u001b[0m\u001b[0;34m'hypertension'\u001b[0m\u001b[0;34m,\u001b[0m \u001b[0minplace\u001b[0m\u001b[0;34m=\u001b[0m\u001b[0;32mTrue\u001b[0m\u001b[0;34m)\u001b[0m\u001b[0;34m\u001b[0m\u001b[0;34m\u001b[0m\u001b[0m\n\u001b[0m\u001b[1;32m      2\u001b[0m \u001b[0mdataset\u001b[0m\u001b[0;34m.\u001b[0m\u001b[0mdrop\u001b[0m\u001b[0;34m(\u001b[0m\u001b[0mcolumns\u001b[0m\u001b[0;34m=\u001b[0m\u001b[0;34m'heart_disease'\u001b[0m\u001b[0;34m,\u001b[0m \u001b[0minplace\u001b[0m \u001b[0;34m=\u001b[0m \u001b[0;32mTrue\u001b[0m\u001b[0;34m)\u001b[0m\u001b[0;34m\u001b[0m\u001b[0;34m\u001b[0m\u001b[0m\n",
            "\u001b[0;32m/usr/local/lib/python3.7/dist-packages/pandas/core/frame.py\u001b[0m in \u001b[0;36mdrop\u001b[0;34m(self, labels, axis, index, columns, level, inplace, errors)\u001b[0m\n\u001b[1;32m   4172\u001b[0m             \u001b[0mlevel\u001b[0m\u001b[0;34m=\u001b[0m\u001b[0mlevel\u001b[0m\u001b[0;34m,\u001b[0m\u001b[0;34m\u001b[0m\u001b[0;34m\u001b[0m\u001b[0m\n\u001b[1;32m   4173\u001b[0m             \u001b[0minplace\u001b[0m\u001b[0;34m=\u001b[0m\u001b[0minplace\u001b[0m\u001b[0;34m,\u001b[0m\u001b[0;34m\u001b[0m\u001b[0;34m\u001b[0m\u001b[0m\n\u001b[0;32m-> 4174\u001b[0;31m             \u001b[0merrors\u001b[0m\u001b[0;34m=\u001b[0m\u001b[0merrors\u001b[0m\u001b[0;34m,\u001b[0m\u001b[0;34m\u001b[0m\u001b[0;34m\u001b[0m\u001b[0m\n\u001b[0m\u001b[1;32m   4175\u001b[0m         )\n\u001b[1;32m   4176\u001b[0m \u001b[0;34m\u001b[0m\u001b[0m\n",
            "\u001b[0;32m/usr/local/lib/python3.7/dist-packages/pandas/core/generic.py\u001b[0m in \u001b[0;36mdrop\u001b[0;34m(self, labels, axis, index, columns, level, inplace, errors)\u001b[0m\n\u001b[1;32m   3887\u001b[0m         \u001b[0;32mfor\u001b[0m \u001b[0maxis\u001b[0m\u001b[0;34m,\u001b[0m \u001b[0mlabels\u001b[0m \u001b[0;32min\u001b[0m \u001b[0maxes\u001b[0m\u001b[0;34m.\u001b[0m\u001b[0mitems\u001b[0m\u001b[0;34m(\u001b[0m\u001b[0;34m)\u001b[0m\u001b[0;34m:\u001b[0m\u001b[0;34m\u001b[0m\u001b[0;34m\u001b[0m\u001b[0m\n\u001b[1;32m   3888\u001b[0m             \u001b[0;32mif\u001b[0m \u001b[0mlabels\u001b[0m \u001b[0;32mis\u001b[0m \u001b[0;32mnot\u001b[0m \u001b[0;32mNone\u001b[0m\u001b[0;34m:\u001b[0m\u001b[0;34m\u001b[0m\u001b[0;34m\u001b[0m\u001b[0m\n\u001b[0;32m-> 3889\u001b[0;31m                 \u001b[0mobj\u001b[0m \u001b[0;34m=\u001b[0m \u001b[0mobj\u001b[0m\u001b[0;34m.\u001b[0m\u001b[0m_drop_axis\u001b[0m\u001b[0;34m(\u001b[0m\u001b[0mlabels\u001b[0m\u001b[0;34m,\u001b[0m \u001b[0maxis\u001b[0m\u001b[0;34m,\u001b[0m \u001b[0mlevel\u001b[0m\u001b[0;34m=\u001b[0m\u001b[0mlevel\u001b[0m\u001b[0;34m,\u001b[0m \u001b[0merrors\u001b[0m\u001b[0;34m=\u001b[0m\u001b[0merrors\u001b[0m\u001b[0;34m)\u001b[0m\u001b[0;34m\u001b[0m\u001b[0;34m\u001b[0m\u001b[0m\n\u001b[0m\u001b[1;32m   3890\u001b[0m \u001b[0;34m\u001b[0m\u001b[0m\n\u001b[1;32m   3891\u001b[0m         \u001b[0;32mif\u001b[0m \u001b[0minplace\u001b[0m\u001b[0;34m:\u001b[0m\u001b[0;34m\u001b[0m\u001b[0;34m\u001b[0m\u001b[0m\n",
            "\u001b[0;32m/usr/local/lib/python3.7/dist-packages/pandas/core/generic.py\u001b[0m in \u001b[0;36m_drop_axis\u001b[0;34m(self, labels, axis, level, errors)\u001b[0m\n\u001b[1;32m   3921\u001b[0m                 \u001b[0mnew_axis\u001b[0m \u001b[0;34m=\u001b[0m \u001b[0maxis\u001b[0m\u001b[0;34m.\u001b[0m\u001b[0mdrop\u001b[0m\u001b[0;34m(\u001b[0m\u001b[0mlabels\u001b[0m\u001b[0;34m,\u001b[0m \u001b[0mlevel\u001b[0m\u001b[0;34m=\u001b[0m\u001b[0mlevel\u001b[0m\u001b[0;34m,\u001b[0m \u001b[0merrors\u001b[0m\u001b[0;34m=\u001b[0m\u001b[0merrors\u001b[0m\u001b[0;34m)\u001b[0m\u001b[0;34m\u001b[0m\u001b[0;34m\u001b[0m\u001b[0m\n\u001b[1;32m   3922\u001b[0m             \u001b[0;32melse\u001b[0m\u001b[0;34m:\u001b[0m\u001b[0;34m\u001b[0m\u001b[0;34m\u001b[0m\u001b[0m\n\u001b[0;32m-> 3923\u001b[0;31m                 \u001b[0mnew_axis\u001b[0m \u001b[0;34m=\u001b[0m \u001b[0maxis\u001b[0m\u001b[0;34m.\u001b[0m\u001b[0mdrop\u001b[0m\u001b[0;34m(\u001b[0m\u001b[0mlabels\u001b[0m\u001b[0;34m,\u001b[0m \u001b[0merrors\u001b[0m\u001b[0;34m=\u001b[0m\u001b[0merrors\u001b[0m\u001b[0;34m)\u001b[0m\u001b[0;34m\u001b[0m\u001b[0;34m\u001b[0m\u001b[0m\n\u001b[0m\u001b[1;32m   3924\u001b[0m             \u001b[0mresult\u001b[0m \u001b[0;34m=\u001b[0m \u001b[0mself\u001b[0m\u001b[0;34m.\u001b[0m\u001b[0mreindex\u001b[0m\u001b[0;34m(\u001b[0m\u001b[0;34m**\u001b[0m\u001b[0;34m{\u001b[0m\u001b[0maxis_name\u001b[0m\u001b[0;34m:\u001b[0m \u001b[0mnew_axis\u001b[0m\u001b[0;34m}\u001b[0m\u001b[0;34m)\u001b[0m\u001b[0;34m\u001b[0m\u001b[0;34m\u001b[0m\u001b[0m\n\u001b[1;32m   3925\u001b[0m \u001b[0;34m\u001b[0m\u001b[0m\n",
            "\u001b[0;32m/usr/local/lib/python3.7/dist-packages/pandas/core/indexes/base.py\u001b[0m in \u001b[0;36mdrop\u001b[0;34m(self, labels, errors)\u001b[0m\n\u001b[1;32m   5285\u001b[0m         \u001b[0;32mif\u001b[0m \u001b[0mmask\u001b[0m\u001b[0;34m.\u001b[0m\u001b[0many\u001b[0m\u001b[0;34m(\u001b[0m\u001b[0;34m)\u001b[0m\u001b[0;34m:\u001b[0m\u001b[0;34m\u001b[0m\u001b[0;34m\u001b[0m\u001b[0m\n\u001b[1;32m   5286\u001b[0m             \u001b[0;32mif\u001b[0m \u001b[0merrors\u001b[0m \u001b[0;34m!=\u001b[0m \u001b[0;34m\"ignore\"\u001b[0m\u001b[0;34m:\u001b[0m\u001b[0;34m\u001b[0m\u001b[0;34m\u001b[0m\u001b[0m\n\u001b[0;32m-> 5287\u001b[0;31m                 \u001b[0;32mraise\u001b[0m \u001b[0mKeyError\u001b[0m\u001b[0;34m(\u001b[0m\u001b[0;34mf\"{labels[mask]} not found in axis\"\u001b[0m\u001b[0;34m)\u001b[0m\u001b[0;34m\u001b[0m\u001b[0;34m\u001b[0m\u001b[0m\n\u001b[0m\u001b[1;32m   5288\u001b[0m             \u001b[0mindexer\u001b[0m \u001b[0;34m=\u001b[0m \u001b[0mindexer\u001b[0m\u001b[0;34m[\u001b[0m\u001b[0;34m~\u001b[0m\u001b[0mmask\u001b[0m\u001b[0;34m]\u001b[0m\u001b[0;34m\u001b[0m\u001b[0;34m\u001b[0m\u001b[0m\n\u001b[1;32m   5289\u001b[0m         \u001b[0;32mreturn\u001b[0m \u001b[0mself\u001b[0m\u001b[0;34m.\u001b[0m\u001b[0mdelete\u001b[0m\u001b[0;34m(\u001b[0m\u001b[0mindexer\u001b[0m\u001b[0;34m)\u001b[0m\u001b[0;34m\u001b[0m\u001b[0;34m\u001b[0m\u001b[0m\n",
            "\u001b[0;31mKeyError\u001b[0m: \"['hypertension'] not found in axis\""
          ]
        }
      ]
    },
    {
      "cell_type": "code",
      "metadata": {
        "id": "W0ATxAp6XlVj"
      },
      "source": [
        "test.drop(columns='hypertension', inplace=True)\n",
        "test.drop(columns='heart_disease', inplace = True)"
      ],
      "execution_count": null,
      "outputs": []
    },
    {
      "cell_type": "code",
      "metadata": {
        "id": "jqGnB9SRNjg3"
      },
      "source": [
        "dataset.drop(columns='smoking_status', inplace=True)\n",
        "test.drop(columns='smoking_status', inplace = True)"
      ],
      "execution_count": null,
      "outputs": []
    },
    {
      "cell_type": "markdown",
      "metadata": {
        "id": "af0J10FfzzrE"
      },
      "source": [
        "**kiểm tra số cột còn lại sau khi loại bỏ**"
      ]
    },
    {
      "cell_type": "code",
      "metadata": {
        "colab": {
          "base_uri": "https://localhost:8080/"
        },
        "id": "DGPv5w8jvKot",
        "outputId": "e3d44760-c1a9-4b7a-f576-3898c7d9206b"
      },
      "source": [
        "dataset.info()"
      ],
      "execution_count": null,
      "outputs": [
        {
          "output_type": "stream",
          "text": [
            "<class 'pandas.core.frame.DataFrame'>\n",
            "Int64Index: 2842 entries, 0 to 3999\n",
            "Data columns (total 10 columns):\n",
            " #   Column             Non-Null Count  Dtype  \n",
            "---  ------             --------------  -----  \n",
            " 0   gender             2842 non-null   int64  \n",
            " 1   age                2842 non-null   float64\n",
            " 2   ever_married       2842 non-null   int64  \n",
            " 3   work_type          2842 non-null   int64  \n",
            " 4   Residence_type     2842 non-null   int64  \n",
            " 5   avg_glucose_level  2842 non-null   float64\n",
            " 6   bmi                2842 non-null   float64\n",
            " 7   blood              2842 non-null   int64  \n",
            " 8   height             2842 non-null   float64\n",
            " 9   stroke             2842 non-null   int64  \n",
            "dtypes: float64(4), int64(6)\n",
            "memory usage: 244.2 KB\n"
          ],
          "name": "stdout"
        }
      ]
    },
    {
      "cell_type": "code",
      "metadata": {
        "colab": {
          "base_uri": "https://localhost:8080/"
        },
        "id": "93-0A4ThvQz9",
        "outputId": "371ec82e-0926-4111-a8a1-341884776224"
      },
      "source": [
        "test.info()"
      ],
      "execution_count": null,
      "outputs": [
        {
          "output_type": "stream",
          "text": [
            "<class 'pandas.core.frame.DataFrame'>\n",
            "RangeIndex: 500 entries, 0 to 499\n",
            "Data columns (total 10 columns):\n",
            " #   Column             Non-Null Count  Dtype  \n",
            "---  ------             --------------  -----  \n",
            " 0   id                 500 non-null    int64  \n",
            " 1   gender             500 non-null    int64  \n",
            " 2   age                500 non-null    float64\n",
            " 3   ever_married       500 non-null    int64  \n",
            " 4   work_type          500 non-null    int64  \n",
            " 5   Residence_type     500 non-null    int64  \n",
            " 6   avg_glucose_level  500 non-null    float64\n",
            " 7   bmi                500 non-null    float64\n",
            " 8   blood              500 non-null    int64  \n",
            " 9   height             500 non-null    float64\n",
            "dtypes: float64(4), int64(6)\n",
            "memory usage: 39.2 KB\n"
          ],
          "name": "stdout"
        }
      ]
    },
    {
      "cell_type": "markdown",
      "metadata": {
        "id": "xV6OfW7kz5a9"
      },
      "source": [
        "**chia tập train và test**"
      ]
    },
    {
      "cell_type": "code",
      "metadata": {
        "id": "qgUrtsdTpmKQ"
      },
      "source": [
        "x_train = dataset.iloc[:, :9].values\n",
        "\n",
        "y_train = dataset.iloc[:, 9:].values\n",
        "\n",
        "x_test = test.iloc[:,1:].values\n",
        "\n",
        "res_id = np.array(test.id)\n",
        "\n"
      ],
      "execution_count": null,
      "outputs": []
    },
    {
      "cell_type": "markdown",
      "metadata": {
        "id": "mT71lqeAz93U"
      },
      "source": [
        "**xử lí mất cân bằng**"
      ]
    },
    {
      "cell_type": "code",
      "metadata": {
        "colab": {
          "base_uri": "https://localhost:8080/"
        },
        "id": "njeaxkNYAjJQ",
        "outputId": "acd5c98b-9031-4621-b2a2-40b9964e7d40"
      },
      "source": [
        "from imblearn.under_sampling import RandomUnderSampler\n",
        "\n",
        "ud = RandomUnderSampler(sampling_strategy=0.25)\n",
        "\n",
        "x_train, y_train= ud.fit_sample(x_train, y_train) # dùng hàm random để lấy ra 1 số dữ liệu stroke 0\n",
        "\n",
        "print(\"after OverSampling, counts of label '1': {}\".format(sum(y_train==1)))\n",
        "print(\"after OverSampling, counts of label '0': {} \\n\".format(sum(y_train==0)))\n",
        "x_train.shape"
      ],
      "execution_count": null,
      "outputs": [
        {
          "output_type": "stream",
          "text": [
            "after OverSampling, counts of label '1': [130]\n",
            "after OverSampling, counts of label '0': [520] \n",
            "\n"
          ],
          "name": "stdout"
        },
        {
          "output_type": "stream",
          "text": [
            "/usr/local/lib/python3.7/dist-packages/sklearn/utils/deprecation.py:87: FutureWarning: Function safe_indexing is deprecated; safe_indexing is deprecated in version 0.22 and will be removed in version 0.24.\n",
            "  warnings.warn(msg, category=FutureWarning)\n"
          ],
          "name": "stderr"
        },
        {
          "output_type": "execute_result",
          "data": {
            "text/plain": [
              "(650, 9)"
            ]
          },
          "metadata": {
            "tags": []
          },
          "execution_count": 195
        }
      ]
    },
    {
      "cell_type": "code",
      "metadata": {
        "colab": {
          "base_uri": "https://localhost:8080/"
        },
        "id": "PEse_-FVoTZb",
        "outputId": "36c2c3f7-37a2-4bc0-8f1a-ca484b038565"
      },
      "source": [
        "from imblearn.over_sampling import SMOTE\n",
        "\n",
        "\n",
        "sm = SMOTE(random_state=2)#tăng số stroke 1 lên cho cân bằng\n",
        "\n",
        "x_train, y_train = sm.fit_resample(x_train, y_train.ravel())\n",
        "\n",
        "\n",
        "print(\"After OverSampling, counts of label '1': {}\".format(sum(y_train==1)))\n",
        "print(\"After OverSampling, counts of label '0': {}\".format(sum(y_train==0)))"
      ],
      "execution_count": null,
      "outputs": [
        {
          "output_type": "stream",
          "text": [
            "After OverSampling, counts of label '1': 520\n",
            "After OverSampling, counts of label '0': 520\n"
          ],
          "name": "stdout"
        },
        {
          "output_type": "stream",
          "text": [
            "/usr/local/lib/python3.7/dist-packages/sklearn/utils/deprecation.py:87: FutureWarning: Function safe_indexing is deprecated; safe_indexing is deprecated in version 0.22 and will be removed in version 0.24.\n",
            "  warnings.warn(msg, category=FutureWarning)\n"
          ],
          "name": "stderr"
        }
      ]
    },
    {
      "cell_type": "code",
      "metadata": {
        "colab": {
          "base_uri": "https://localhost:8080/"
        },
        "id": "2ste7kk_iV7u",
        "outputId": "f3639c4c-a1e3-48b2-8bad-5f96b10d4d78"
      },
      "source": [
        "x_train.shape"
      ],
      "execution_count": null,
      "outputs": [
        {
          "output_type": "execute_result",
          "data": {
            "text/plain": [
              "(2600, 10)"
            ]
          },
          "metadata": {
            "tags": []
          },
          "execution_count": 152
        }
      ]
    },
    {
      "cell_type": "markdown",
      "metadata": {
        "id": "LNy9lQ8902Rt"
      },
      "source": [
        "**train model**"
      ]
    },
    {
      "cell_type": "code",
      "metadata": {
        "id": "p1wpQMkgvVSt"
      },
      "source": [
        "from sklearn.ensemble import RandomForestClassifier #dung thuat toan ramdon forest\n",
        "\n"
      ],
      "execution_count": null,
      "outputs": []
    },
    {
      "cell_type": "code",
      "metadata": {
        "colab": {
          "base_uri": "https://localhost:8080/"
        },
        "id": "P52wx6lLvf90",
        "outputId": "e56322ed-536f-4461-cb56-5dc14143c803"
      },
      "source": [
        "clf = RandomForestClassifier()\n",
        "clf.fit(x_train, y_train)\n",
        "y_pred = clf.predict(x_test)\n",
        "y_pred"
      ],
      "execution_count": null,
      "outputs": [
        {
          "output_type": "execute_result",
          "data": {
            "text/plain": [
              "array([0, 0, 0, 0, 0, 0, 0, 0, 0, 0, 1, 0, 0, 0, 0, 0, 0, 1, 0, 1, 0, 0,\n",
              "       0, 0, 0, 0, 0, 0, 0, 0, 0, 0, 0, 0, 0, 1, 1, 0, 1, 0, 0, 0, 0, 0,\n",
              "       0, 0, 0, 0, 0, 0, 1, 0, 0, 1, 0, 0, 0, 0, 0, 0, 0, 0, 0, 0, 0, 0,\n",
              "       0, 1, 0, 0, 1, 1, 0, 0, 0, 0, 0, 0, 0, 0, 0, 1, 1, 0, 0, 0, 0, 0,\n",
              "       1, 0, 0, 0, 0, 0, 0, 0, 0, 0, 1, 0, 0, 1, 0, 0, 0, 0, 0, 0, 0, 1,\n",
              "       0, 0, 0, 0, 0, 1, 0, 0, 0, 1, 0, 0, 0, 0, 0, 0, 0, 0, 0, 0, 0, 1,\n",
              "       0, 1, 0, 0, 0, 0, 0, 0, 0, 0, 0, 1, 0, 0, 0, 0, 0, 0, 0, 0, 1, 0,\n",
              "       0, 0, 1, 0, 0, 0, 0, 0, 0, 0, 1, 0, 0, 0, 0, 0, 0, 1, 0, 0, 0, 0,\n",
              "       0, 0, 0, 0, 1, 0, 0, 0, 0, 0, 0, 0, 0, 0, 0, 1, 0, 0, 0, 0, 0, 0,\n",
              "       1, 1, 0, 0, 0, 0, 0, 0, 0, 0, 1, 0, 1, 1, 0, 0, 1, 0, 0, 0, 0, 0,\n",
              "       0, 0, 0, 1, 0, 0, 0, 0, 0, 0, 1, 0, 0, 1, 0, 0, 0, 0, 0, 0, 0, 0,\n",
              "       0, 0, 0, 1, 1, 0, 0, 1, 1, 0, 0, 0, 0, 1, 0, 0, 0, 1, 0, 0, 0, 0,\n",
              "       0, 0, 0, 0, 1, 0, 0, 0, 0, 0, 0, 0, 0, 0, 1, 0, 0, 1, 0, 1, 1, 0,\n",
              "       0, 1, 0, 1, 0, 0, 0, 1, 0, 0, 0, 0, 0, 0, 1, 1, 0, 0, 0, 0, 0, 0,\n",
              "       0, 0, 1, 1, 0, 1, 0, 0, 0, 0, 0, 0, 0, 0, 0, 0, 0, 0, 0, 0, 1, 0,\n",
              "       0, 0, 0, 1, 0, 1, 0, 0, 1, 0, 0, 0, 0, 0, 0, 0, 1, 0, 0, 0, 0, 0,\n",
              "       1, 0, 0, 0, 0, 1, 0, 0, 1, 0, 1, 0, 1, 0, 0, 0, 0, 0, 0, 0, 0, 0,\n",
              "       0, 0, 0, 0, 1, 0, 0, 0, 1, 1, 0, 1, 0, 0, 0, 0, 1, 1, 0, 0, 1, 0,\n",
              "       1, 1, 1, 1, 0, 1, 0, 0, 0, 0, 0, 1, 1, 1, 0, 0, 0, 1, 0, 1, 0, 0,\n",
              "       0, 1, 0, 0, 0, 1, 0, 1, 1, 0, 0, 0, 1, 1, 1, 0, 0, 0, 0, 0, 1, 0,\n",
              "       0, 0, 0, 0, 1, 0, 1, 0, 0, 0, 0, 0, 0, 0, 0, 1, 0, 0, 0, 0, 0, 0,\n",
              "       0, 1, 1, 0, 0, 1, 0, 1, 0, 0, 0, 0, 0, 0, 0, 0, 0, 0, 0, 0, 1, 1,\n",
              "       0, 1, 0, 0, 0, 1, 0, 0, 1, 0, 0, 0, 1, 0, 0, 0])"
            ]
          },
          "metadata": {
            "tags": []
          },
          "execution_count": 198
        }
      ]
    },
    {
      "cell_type": "code",
      "metadata": {
        "colab": {
          "base_uri": "https://localhost:8080/",
          "height": 402
        },
        "id": "pV_AAGIws4fw",
        "outputId": "d15ca1d0-29a0-451a-81f5-7b71740b4cc9"
      },
      "source": [
        "submission = pd.DataFrame(zip(res_id,y_pred), columns = ['id','stroke'])\n",
        "submission\n"
      ],
      "execution_count": null,
      "outputs": [
        {
          "output_type": "execute_result",
          "data": {
            "text/html": [
              "<div>\n",
              "<style scoped>\n",
              "    .dataframe tbody tr th:only-of-type {\n",
              "        vertical-align: middle;\n",
              "    }\n",
              "\n",
              "    .dataframe tbody tr th {\n",
              "        vertical-align: top;\n",
              "    }\n",
              "\n",
              "    .dataframe thead th {\n",
              "        text-align: right;\n",
              "    }\n",
              "</style>\n",
              "<table border=\"1\" class=\"dataframe\">\n",
              "  <thead>\n",
              "    <tr style=\"text-align: right;\">\n",
              "      <th></th>\n",
              "      <th>id</th>\n",
              "      <th>stroke</th>\n",
              "    </tr>\n",
              "  </thead>\n",
              "  <tbody>\n",
              "    <tr>\n",
              "      <th>0</th>\n",
              "      <td>67</td>\n",
              "      <td>0</td>\n",
              "    </tr>\n",
              "    <tr>\n",
              "      <th>1</th>\n",
              "      <td>210</td>\n",
              "      <td>0</td>\n",
              "    </tr>\n",
              "    <tr>\n",
              "      <th>2</th>\n",
              "      <td>242</td>\n",
              "      <td>0</td>\n",
              "    </tr>\n",
              "    <tr>\n",
              "      <th>3</th>\n",
              "      <td>711</td>\n",
              "      <td>0</td>\n",
              "    </tr>\n",
              "    <tr>\n",
              "      <th>4</th>\n",
              "      <td>724</td>\n",
              "      <td>0</td>\n",
              "    </tr>\n",
              "    <tr>\n",
              "      <th>...</th>\n",
              "      <td>...</td>\n",
              "      <td>...</td>\n",
              "    </tr>\n",
              "    <tr>\n",
              "      <th>495</th>\n",
              "      <td>72393</td>\n",
              "      <td>0</td>\n",
              "    </tr>\n",
              "    <tr>\n",
              "      <th>496</th>\n",
              "      <td>72491</td>\n",
              "      <td>1</td>\n",
              "    </tr>\n",
              "    <tr>\n",
              "      <th>497</th>\n",
              "      <td>72562</td>\n",
              "      <td>0</td>\n",
              "    </tr>\n",
              "    <tr>\n",
              "      <th>498</th>\n",
              "      <td>72792</td>\n",
              "      <td>0</td>\n",
              "    </tr>\n",
              "    <tr>\n",
              "      <th>499</th>\n",
              "      <td>72940</td>\n",
              "      <td>0</td>\n",
              "    </tr>\n",
              "  </tbody>\n",
              "</table>\n",
              "<p>500 rows × 2 columns</p>\n",
              "</div>"
            ],
            "text/plain": [
              "        id  stroke\n",
              "0       67       0\n",
              "1      210       0\n",
              "2      242       0\n",
              "3      711       0\n",
              "4      724       0\n",
              "..     ...     ...\n",
              "495  72393       0\n",
              "496  72491       1\n",
              "497  72562       0\n",
              "498  72792       0\n",
              "499  72940       0\n",
              "\n",
              "[500 rows x 2 columns]"
            ]
          },
          "metadata": {
            "tags": []
          },
          "execution_count": 199
        }
      ]
    },
    {
      "cell_type": "code",
      "metadata": {
        "id": "Aai8bA0PeEaL"
      },
      "source": [
        "df = pd.DataFrame(submission)\n",
        "submit = df.to_csv (r'/content/drive/MyDrive/tempoluxury/sub.csv', index = False, header=True)"
      ],
      "execution_count": null,
      "outputs": []
    },
    {
      "cell_type": "code",
      "metadata": {
        "id": "ixzItKQG8iSH"
      },
      "source": [
        ""
      ],
      "execution_count": null,
      "outputs": []
    },
    {
      "cell_type": "markdown",
      "metadata": {
        "id": "8-kDkYfCL0Z5"
      },
      "source": [
        "**Train MOdel with XGB**"
      ]
    },
    {
      "cell_type": "code",
      "metadata": {
        "id": "Bxz-wsC4L5iA"
      },
      "source": [
        "'''clf =XGBClassifier()\n",
        "clf.fit(x_train, y_train)\n",
        "y_pred1 = clf.predict(x_test)\n",
        "submission = pd.DataFrame(zip(res_id,y_pred1), columns = ['id','stroke'])\n",
        "submission\n",
        "df = pd.DataFrame(submission)\n",
        "submit = df.to_csv (r'/content/drive/MyDrive/tempoluxury/sub.csv', index = False, header=True)"
      ],
      "execution_count": null,
      "outputs": []
    },
    {
      "cell_type": "code",
      "metadata": {
        "colab": {
          "base_uri": "https://localhost:8080/"
        },
        "id": "c94JNdysMEwG",
        "outputId": "918f0c18-0d61-4b32-e2fb-5838458ef750"
      },
      "source": [
        "'''y_pred1"
      ],
      "execution_count": null,
      "outputs": [
        {
          "output_type": "execute_result",
          "data": {
            "text/plain": [
              "array([0, 1, 0, 1, 0, 0, 0, 0, 0, 0, 1, 0, 0, 0, 0, 0, 0, 1, 0, 1, 0, 0,\n",
              "       0, 0, 0, 1, 0, 0, 0, 0, 0, 0, 0, 0, 0, 0, 1, 0, 1, 0, 0, 0, 0, 0,\n",
              "       0, 0, 0, 0, 0, 0, 1, 0, 0, 1, 0, 0, 0, 0, 0, 0, 0, 0, 0, 0, 0, 0,\n",
              "       0, 0, 0, 0, 1, 1, 0, 0, 0, 0, 0, 0, 0, 0, 0, 1, 0, 0, 0, 0, 0, 0,\n",
              "       1, 0, 0, 0, 0, 0, 0, 0, 0, 0, 1, 0, 0, 1, 0, 0, 0, 0, 0, 0, 0, 1,\n",
              "       0, 0, 0, 0, 0, 1, 0, 0, 0, 1, 0, 0, 0, 0, 0, 0, 0, 1, 0, 0, 0, 1,\n",
              "       0, 1, 1, 0, 0, 0, 0, 0, 0, 0, 0, 1, 0, 0, 0, 0, 0, 0, 0, 0, 1, 0,\n",
              "       0, 0, 0, 0, 0, 0, 0, 0, 0, 0, 1, 0, 0, 0, 0, 0, 0, 1, 0, 0, 0, 0,\n",
              "       0, 0, 1, 0, 1, 0, 0, 0, 0, 0, 0, 0, 0, 0, 0, 0, 0, 0, 0, 0, 0, 0,\n",
              "       1, 1, 0, 0, 0, 0, 0, 0, 0, 0, 1, 0, 1, 0, 0, 0, 1, 0, 0, 0, 0, 0,\n",
              "       0, 0, 0, 0, 0, 0, 0, 0, 0, 0, 1, 0, 0, 1, 0, 0, 0, 0, 0, 0, 0, 0,\n",
              "       0, 0, 0, 0, 1, 0, 0, 1, 1, 0, 0, 0, 0, 1, 0, 0, 0, 1, 0, 0, 0, 0,\n",
              "       0, 0, 0, 0, 1, 0, 0, 0, 0, 0, 0, 0, 0, 0, 1, 0, 0, 0, 0, 1, 1, 0,\n",
              "       0, 1, 0, 1, 0, 0, 0, 1, 0, 0, 0, 0, 0, 0, 0, 1, 0, 0, 0, 0, 0, 0,\n",
              "       0, 0, 1, 1, 0, 1, 0, 0, 0, 0, 0, 0, 0, 0, 0, 0, 0, 0, 0, 0, 1, 0,\n",
              "       0, 1, 0, 1, 0, 1, 0, 0, 0, 0, 0, 0, 0, 0, 0, 0, 1, 0, 0, 0, 0, 0,\n",
              "       1, 0, 0, 0, 0, 0, 0, 0, 0, 0, 1, 0, 1, 0, 0, 0, 0, 0, 0, 0, 0, 0,\n",
              "       0, 0, 0, 0, 1, 0, 0, 0, 1, 1, 0, 1, 0, 0, 0, 0, 0, 1, 0, 0, 1, 0,\n",
              "       1, 1, 1, 1, 0, 1, 0, 0, 0, 0, 0, 1, 1, 1, 0, 0, 0, 1, 0, 0, 0, 0,\n",
              "       0, 1, 0, 0, 0, 1, 0, 1, 0, 0, 0, 0, 1, 1, 1, 0, 0, 0, 0, 0, 1, 0,\n",
              "       0, 0, 0, 0, 1, 0, 0, 1, 0, 0, 0, 0, 0, 0, 0, 1, 0, 0, 0, 0, 0, 0,\n",
              "       0, 1, 0, 0, 0, 1, 0, 1, 0, 0, 0, 0, 0, 0, 0, 0, 0, 0, 0, 0, 1, 1,\n",
              "       0, 1, 0, 0, 0, 0, 0, 0, 1, 0, 0, 0, 1, 0, 0, 0])"
            ]
          },
          "metadata": {
            "tags": []
          },
          "execution_count": 181
        }
      ]
    },
    {
      "cell_type": "code",
      "metadata": {
        "id": "JofPKFctMGdu"
      },
      "source": [
        ""
      ],
      "execution_count": null,
      "outputs": []
    }
  ]
}